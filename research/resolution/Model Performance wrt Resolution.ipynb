{
 "cells": [
  {
   "cell_type": "markdown",
   "metadata": {},
   "source": [
    "# Model Performance w.r.t. Resolution"
   ]
  },
  {
   "cell_type": "markdown",
   "metadata": {},
   "source": [
    "We use two definitions of image resolution, and evaluate model against each:\n",
    "1. Pixel resolution\n",
    "2. Spatial resolution"
   ]
  },
  {
   "cell_type": "code",
   "execution_count": 1,
   "metadata": {
    "ExecuteTime": {
     "end_time": "2018-12-23T12:29:15.752769Z",
     "start_time": "2018-12-23T12:29:15.403169Z"
    }
   },
   "outputs": [],
   "source": [
    "import os\n",
    "import gc\n",
    "import sys\n",
    "import glob\n",
    "\n",
    "from PIL import Image\n",
    "import numpy as np\n",
    "\n",
    "import matplotlib.pyplot as plt"
   ]
  },
  {
   "cell_type": "code",
   "execution_count": 2,
   "metadata": {
    "ExecuteTime": {
     "end_time": "2018-12-23T12:29:18.415871Z",
     "start_time": "2018-12-23T12:29:15.756021Z"
    }
   },
   "outputs": [
    {
     "name": "stderr",
     "output_type": "stream",
     "text": [
      "Using TensorFlow backend.\n"
     ]
    }
   ],
   "source": [
    "ROOT = \"../../../Mask_RCNN/\"\n",
    "MODEL_DIR = os.path.join(ROOT, \"logs\")\n",
    "COCO_PATH = os.path.join(ROOT, \"samples/coco/\")\n",
    "COCO_MODEL_PATH = os.path.join(ROOT + \"mask_rcnn_coco.h5\")\n",
    "CLOMASK_PATH = \"../../../Mask_RCNN/mrcnn\"\n",
    "\n",
    "sys.path.append(ROOT)\n",
    "sys.path.append(CLOMASK_PATH)\n",
    "sys.path.append(COCO_PATH)\n",
    "\n",
    "import coco\n",
    "import utils\n",
    "from model import MaskRCNN"
   ]
  },
  {
   "cell_type": "markdown",
   "metadata": {},
   "source": [
    "### Initializing the model"
   ]
  },
  {
   "cell_type": "code",
   "execution_count": 3,
   "metadata": {
    "ExecuteTime": {
     "end_time": "2018-12-23T12:29:18.423223Z",
     "start_time": "2018-12-23T12:29:18.419067Z"
    }
   },
   "outputs": [],
   "source": [
    "class InferenceConfig(coco.CocoConfig):\n",
    "    # Set batch size to 1 since we'll be running inference on\n",
    "    # one image at a time. Batch size = GPU_COUNT * IMAGES_PER_GPU\n",
    "    GPU_COUNT = 1\n",
    "    IMAGES_PER_GPU = 1\n",
    "\n",
    "\n",
    "config = InferenceConfig()\n",
    "#model = MaskRCNN(mode=\"inference\", model_dir=MODEL_DIR, config=config)\n",
    "#model.load_weights(COCO_MODEL_PATH, by_name=True)"
   ]
  },
  {
   "cell_type": "markdown",
   "metadata": {},
   "source": [
    "We need to be able to programmatically resize images, to reduce pixel resolution. Serendiptously, this also gives us a way to reduce spatial resolution, since we can downsize and then upsize the image."
   ]
  },
  {
   "cell_type": "code",
   "execution_count": 4,
   "metadata": {
    "ExecuteTime": {
     "end_time": "2018-12-23T12:29:18.437446Z",
     "start_time": "2018-12-23T12:29:18.427450Z"
    }
   },
   "outputs": [],
   "source": [
    "def resize(img, masks, factor):\n",
    "    r, c = img.shape[:2]\n",
    "    r, c = int(r*factor), int(c*factor)\n",
    "    \n",
    "    img = Image.fromarray(img, 'RGB').resize((r, c), Image.BICUBIC)\n",
    "    masks = [Image.fromarray(np.uint8(m), 'L').resize((r, c), Image.BICUBIC) for m in masks]\n",
    "    \n",
    "    img = np.array(img)\n",
    "    masks = np.stack([np.array(m) for m in masks], axis=-1)\n",
    "    \n",
    "    return img, masks"
   ]
  },
  {
   "cell_type": "markdown",
   "metadata": {},
   "source": [
    "## Pixel Resolution"
   ]
  },
  {
   "cell_type": "markdown",
   "metadata": {},
   "source": [
    "### Directory Structure"
   ]
  },
  {
   "cell_type": "markdown",
   "metadata": {},
   "source": [
    "The directory structure for this analysis is same as convention:\n",
    "\n",
    "```\n",
    "├── pixel\n",
    "│   └── bottle_h001\n",
    "│       ├── image\n",
    "│       │   ├── bottles_h001.jpg\n",
    "│       └── masks\n",
    "│           ├── 000_bottle.png\n",
    "│           ├── 001_bottle.png\n",
    "│           ├── 002_bottle.png\n",
    "│           ├── ...\n",
    "```"
   ]
  },
  {
   "cell_type": "markdown",
   "metadata": {},
   "source": [
    "For each `resize_factor`, we resize the image and evaluate the performance. A `resize_factor` of 0.5 on an image of size (1024 x 1024) would result in . a (512 x 512) image."
   ]
  },
  {
   "cell_type": "code",
   "execution_count": 5,
   "metadata": {
    "ExecuteTime": {
     "end_time": "2018-12-23T12:29:18.448090Z",
     "start_time": "2018-12-23T12:29:18.441751Z"
    }
   },
   "outputs": [],
   "source": [
    "resize_factors = [0.1, 0.2, 0.3, 0.4, 0.5, 0.6, 0.7, 0.8, 0.9, 1.0]"
   ]
  },
  {
   "cell_type": "markdown",
   "metadata": {},
   "source": [
    "Since we only want to evaluate the mAP on bottles, we use a small utility function to filter out all results that are not bottles (or any particular class index)."
   ]
  },
  {
   "cell_type": "code",
   "execution_count": 6,
   "metadata": {
    "ExecuteTime": {
     "end_time": "2018-12-23T12:29:18.459679Z",
     "start_time": "2018-12-23T12:29:18.450217Z"
    }
   },
   "outputs": [],
   "source": [
    "bottle_idx = [40]\n",
    "\n",
    "def filter_results(r):\n",
    "    filter_mask = np.isin(r['class_ids'], bottle_idx)\n",
    "    r['rois'] = r['rois'][filter_mask, :]\n",
    "    r['scores'] = r['scores'][filter_mask]\n",
    "    r['class_ids'] = r['class_ids'][filter_mask]\n",
    "    r['masks'] = r['masks'][:, :, filter_mask]\n",
    "\n",
    "    return r"
   ]
  },
  {
   "cell_type": "markdown",
   "metadata": {},
   "source": [
    "We use a small utility function to calculate the mean average precision for bottle masks only:"
   ]
  },
  {
   "cell_type": "code",
   "execution_count": 7,
   "metadata": {
    "ExecuteTime": {
     "end_time": "2018-12-23T12:29:18.473868Z",
     "start_time": "2018-12-23T12:29:18.463286Z"
    }
   },
   "outputs": [],
   "source": [
    "def evaluate_bottle_mAP(model, img, true_masks):\n",
    "    \"\"\"\n",
    "    Arguments\n",
    "    ---------\n",
    "    model: A loaded MaskRCNN model\n",
    "    \n",
    "    img: np array\n",
    "        The input image\n",
    "        \n",
    "    true_masks: np array\n",
    "        An array of ground truth masks\n",
    "    \n",
    "    \"\"\"\n",
    "    result = model.detect([img], verbose=0)[0]\n",
    "    result = filter_results(result)\n",
    "    \n",
    "    pred_box, pred_class_id, pred_score, pred_mask = result['rois'], result['class_ids'], result['scores'], result['masks']\n",
    "    k = len(result['masks'])\n",
    "    \n",
    "    gt_box = utils.extract_bboxes(true_masks)\n",
    "    gt_class_id = np.array(bottle_idx*k)\n",
    "    \n",
    "    # mean average precision\n",
    "    mAP = utils.compute_ap_range(gt_box, gt_class_id, true_masks,\n",
    "                                 pred_box, pred_class_id, pred_score, pred_mask,\n",
    "                                 iou_thresholds=None, verbose=0)\n",
    "    \n",
    "    return mAP"
   ]
  },
  {
   "cell_type": "code",
   "execution_count": 8,
   "metadata": {
    "ExecuteTime": {
     "end_time": "2018-12-23T12:29:26.041573Z",
     "start_time": "2018-12-23T12:29:18.476400Z"
    }
   },
   "outputs": [],
   "source": [
    "im = plt.imread(\"./data/pixel/bottle_h001/image/bottles_h001.jpg\")\n",
    "masks = [plt.imread(f)[:, :, 0] for f in glob.glob(\"./data/pixel/bottle_h001/masks/*.png\")]"
   ]
  },
  {
   "cell_type": "markdown",
   "metadata": {},
   "source": [
    "**Note:** The code below has been written in this peculiar manner deliberately. Running the model repeatedly can cause the kernel to die due to low memory. Since we may want to run this notebook on a local machine, we create, delete and clean up the model in each iteration, even though it is more time consuming"
   ]
  },
  {
   "cell_type": "code",
   "execution_count": 9,
   "metadata": {
    "ExecuteTime": {
     "end_time": "2018-12-23T12:36:07.361350Z",
     "start_time": "2018-12-23T12:29:26.044318Z"
    }
   },
   "outputs": [
    {
     "name": "stdout",
     "output_type": "stream",
     "text": [
      "WARNING:tensorflow:From /Users/havan/Dropbox/CP/Git/CloMask/webapp/model_server/modelserver/lib/python3.6/site-packages/tensorflow/python/ops/sparse_ops.py:1165: sparse_to_dense (from tensorflow.python.ops.sparse_ops) is deprecated and will be removed in a future version.\n",
      "Instructions for updating:\n",
      "Create a `tf.sparse.SparseTensor` and use `tf.sparse.to_dense` instead.\n",
      "mAP for 0.1 = 0.3023905856102103\n",
      "mAP for 0.2 = 0.3442222368717193\n",
      "mAP for 0.3 = 0.3317037176920308\n",
      "mAP for 0.4 = 0.3172222344825665\n",
      "mAP for 0.5 = 0.3320370509806606\n",
      "mAP for 0.6 = 0.33222223917643234\n",
      "mAP for 0.7 = 0.33000001683831215\n",
      "mAP for 0.8 = 0.3222222375373046\n",
      "mAP for 0.9 = 0.3255555706719558\n",
      "mAP for 1.0 = 0.3039814952347014\n"
     ]
    }
   ],
   "source": [
    "mAPs = []\n",
    "for resize_factor in resize_factors:\n",
    "    model = MaskRCNN(mode=\"inference\", model_dir=MODEL_DIR, config=config)\n",
    "    model.load_weights(COCO_MODEL_PATH, by_name=True)\n",
    "    resized_img, resized_masks = resize(im, masks, resize_factor)\n",
    "    \n",
    "    mAP = evaluate_bottle_mAP(model, resized_img, resized_masks)\n",
    "    del resized_img\n",
    "    del resized_masks\n",
    "    del model\n",
    "    gc.collect()\n",
    "    \n",
    "    mAPs.append(mAP)\n",
    "    print(\"mAP for {} = {}\".format(resize_factor, mAP))"
   ]
  },
  {
   "cell_type": "code",
   "execution_count": 10,
   "metadata": {
    "ExecuteTime": {
     "end_time": "2018-12-23T12:36:07.715207Z",
     "start_time": "2018-12-23T12:36:07.367842Z"
    }
   },
   "outputs": [
    {
     "data": {
      "image/png": "[encoded data removed]",
      "text/plain": [
       "<Figure size 576x432 with 1 Axes>"
      ]
     },
     "metadata": {
      "needs_background": "light"
     },
     "output_type": "display_data"
    }
   ],
   "source": [
    "plt.figure(figsize=(8, 6))\n",
    "plt.plot(resize_factors, mAPs)\n",
    "plt.xlabel(\"Scale Factor\")\n",
    "plt.ylabel(\"Mean Average Precision\")\n",
    "plt.ylim((0.1, 0.5))\n",
    "plt.grid()\n",
    "_ = plt.title(\"mAP vs Pixel Resolution\")"
   ]
  },
  {
   "cell_type": "markdown",
   "metadata": {},
   "source": [
    "## Spatial Resolution"
   ]
  }
 ],
 "metadata": {
  "kernelspec": {
   "display_name": "Python 3",
   "language": "python",
   "name": "python3"
  },
  "language_info": {
   "codemirror_mode": {
    "name": "ipython",
    "version": 3
   },
   "file_extension": ".py",
   "mimetype": "text/x-python",
   "name": "python",
   "nbconvert_exporter": "python",
   "pygments_lexer": "ipython3",
   "version": "3.6.4"
  }
 },
 "nbformat": 4,
 "nbformat_minor": 2
}
