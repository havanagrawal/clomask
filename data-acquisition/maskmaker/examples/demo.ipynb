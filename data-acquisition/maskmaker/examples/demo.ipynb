{
 "cells": [
  {
   "cell_type": "markdown",
   "metadata": {},
   "source": [
    "# Usage of the `ImageMask` class"
   ]
  },
  {
   "cell_type": "code",
   "execution_count": 1,
   "metadata": {
    "ExecuteTime": {
     "end_time": "2018-11-27T01:06:49.937697Z",
     "start_time": "2018-11-27T01:06:49.495839Z"
    }
   },
   "outputs": [],
   "source": [
    "import os\n",
    "\n",
    "import sys\n",
    "sys.path.append('..')\n",
    "\n",
    "from maskmaker import ImageMask\n",
    "\n",
    "%matplotlib inline\n",
    "import matplotlib.pyplot as plt"
   ]
  },
  {
   "cell_type": "code",
   "execution_count": 2,
   "metadata": {
    "ExecuteTime": {
     "end_time": "2018-11-27T01:06:49.943782Z",
     "start_time": "2018-11-27T01:06:49.940049Z"
    }
   },
   "outputs": [],
   "source": [
    "import PIL.Image as Image"
   ]
  },
  {
   "cell_type": "markdown",
   "metadata": {},
   "source": [
    "The default fill is white, but since we want to display it inline, we'll use red"
   ]
  },
  {
   "cell_type": "code",
   "execution_count": 3,
   "metadata": {
    "ExecuteTime": {
     "end_time": "2018-11-27T01:06:49.950572Z",
     "start_time": "2018-11-27T01:06:49.946931Z"
    }
   },
   "outputs": [],
   "source": [
    "RED_FILL = (255, 0, 0)"
   ]
  },
  {
   "cell_type": "code",
   "execution_count": 4,
   "metadata": {
    "ExecuteTime": {
     "end_time": "2018-11-27T01:06:49.957840Z",
     "start_time": "2018-11-27T01:06:49.953154Z"
    }
   },
   "outputs": [],
   "source": [
    "imask = ImageMask('./chips.xml', polygon_fill=RED_FILL)"
   ]
  },
  {
   "cell_type": "markdown",
   "metadata": {},
   "source": [
    "## Inspecting the imask object"
   ]
  },
  {
   "cell_type": "markdown",
   "metadata": {},
   "source": [
    "What was the original image name?"
   ]
  },
  {
   "cell_type": "code",
   "execution_count": 5,
   "metadata": {
    "ExecuteTime": {
     "end_time": "2018-11-27T01:06:49.970609Z",
     "start_time": "2018-11-27T01:06:49.959990Z"
    }
   },
   "outputs": [
    {
     "data": {
      "text/plain": [
       "'chips.jpg'"
      ]
     },
     "execution_count": 5,
     "metadata": {},
     "output_type": "execute_result"
    }
   ],
   "source": [
    "imask.image_name"
   ]
  },
  {
   "cell_type": "markdown",
   "metadata": {},
   "source": [
    "How many masks does this image have?"
   ]
  },
  {
   "cell_type": "code",
   "execution_count": 6,
   "metadata": {
    "ExecuteTime": {
     "end_time": "2018-11-27T01:06:50.012970Z",
     "start_time": "2018-11-27T01:06:49.973345Z"
    }
   },
   "outputs": [
    {
     "data": {
      "text/plain": [
       "16"
      ]
     },
     "execution_count": 6,
     "metadata": {},
     "output_type": "execute_result"
    }
   ],
   "source": [
    "len(imask.masks)"
   ]
  },
  {
   "cell_type": "markdown",
   "metadata": {},
   "source": [
    "What are these masks of?"
   ]
  },
  {
   "cell_type": "code",
   "execution_count": 7,
   "metadata": {
    "ExecuteTime": {
     "end_time": "2018-11-27T01:06:50.021284Z",
     "start_time": "2018-11-27T01:06:50.015111Z"
    }
   },
   "outputs": [
    {
     "data": {
      "text/plain": [
       "['chips',\n",
       " 'chips',\n",
       " 'chips',\n",
       " 'chips',\n",
       " 'chips',\n",
       " 'chips',\n",
       " 'chips',\n",
       " 'chips',\n",
       " 'chips',\n",
       " 'chips',\n",
       " 'chips',\n",
       " 'chips',\n",
       " 'chips',\n",
       " 'chips',\n",
       " 'chips',\n",
       " 'chips']"
      ]
     },
     "execution_count": 7,
     "metadata": {},
     "output_type": "execute_result"
    }
   ],
   "source": [
    "imask.annotations"
   ]
  },
  {
   "cell_type": "markdown",
   "metadata": {},
   "source": [
    "## Visualizations"
   ]
  },
  {
   "cell_type": "code",
   "execution_count": 8,
   "metadata": {
    "ExecuteTime": {
     "end_time": "2018-11-27T01:06:50.058935Z",
     "start_time": "2018-11-27T01:06:50.025051Z"
    }
   },
   "outputs": [],
   "source": [
    "img = plt.imread('chips.jpg')"
   ]
  },
  {
   "cell_type": "code",
   "execution_count": 9,
   "metadata": {
    "ExecuteTime": {
     "end_time": "2018-11-27T01:06:50.065838Z",
     "start_time": "2018-11-27T01:06:50.061963Z"
    }
   },
   "outputs": [],
   "source": [
    "import numpy as np"
   ]
  },
  {
   "cell_type": "code",
   "execution_count": 10,
   "metadata": {
    "ExecuteTime": {
     "end_time": "2018-11-27T01:06:50.076899Z",
     "start_time": "2018-11-27T01:06:50.068778Z"
    }
   },
   "outputs": [],
   "source": [
    "def convert_color(img, src_color, dest_color):\n",
    "    t = np.array(img)\n",
    "    for i in range(t.shape[0]):\n",
    "        for j in range(t.shape[1]):\n",
    "            if all(t[i, j, :] == src_color):\n",
    "                t[i, j] = dest_color\n",
    "\n",
    "    return Image.fromarray(t)"
   ]
  },
  {
   "cell_type": "code",
   "execution_count": 11,
   "metadata": {
    "ExecuteTime": {
     "end_time": "2018-11-27T01:06:50.085053Z",
     "start_time": "2018-11-27T01:06:50.079956Z"
    }
   },
   "outputs": [],
   "source": [
    "k = 0"
   ]
  },
  {
   "cell_type": "code",
   "execution_count": null,
   "metadata": {
    "ExecuteTime": {
     "start_time": "2018-11-27T01:06:49.532Z"
    }
   },
   "outputs": [],
   "source": [
    "RED = np.array((255, 0, 0, 255))\n",
    "GREEN = np.array((0, 255, 0, 255))\n",
    "BLUE = np.array((0, 0, 255, 255))\n",
    "BLACK = np.array((0, 0, 0, 255))\n",
    "GREY = np.array((128, 128, 128, 255))\n",
    "PURPLE = np.array((255, 0, 255, 255))\n",
    "\n",
    "colors = [RED, GREEN, BLUE, BLACK, GREY, PURPLE]"
   ]
  },
  {
   "cell_type": "code",
   "execution_count": null,
   "metadata": {
    "ExecuteTime": {
     "start_time": "2018-11-27T01:06:49.536Z"
    }
   },
   "outputs": [],
   "source": [
    "for i in range(0, len(imask.masks)):\n",
    "    imask.masks[i] = convert_color(imask.masks[i], RED, colors[k])\n",
    "    k = (k + 1) % len(colors)"
   ]
  },
  {
   "cell_type": "code",
   "execution_count": null,
   "metadata": {
    "ExecuteTime": {
     "start_time": "2018-11-27T01:06:49.540Z"
    }
   },
   "outputs": [],
   "source": [
    "for mask in imask.masks:\n",
    "    plt.imshow(mask, alpha=0.6)"
   ]
  },
  {
   "cell_type": "code",
   "execution_count": null,
   "metadata": {
    "ExecuteTime": {
     "start_time": "2018-11-27T01:06:49.544Z"
    }
   },
   "outputs": [],
   "source": [
    "_ = plt.imshow(img)"
   ]
  },
  {
   "cell_type": "markdown",
   "metadata": {},
   "source": [
    "We can save these masks to a directory of our choice:"
   ]
  },
  {
   "cell_type": "code",
   "execution_count": null,
   "metadata": {
    "ExecuteTime": {
     "start_time": "2018-11-27T01:06:49.546Z"
    }
   },
   "outputs": [],
   "source": [
    "output_dir = 'Masks'"
   ]
  },
  {
   "cell_type": "code",
   "execution_count": null,
   "metadata": {
    "ExecuteTime": {
     "start_time": "2018-11-27T01:06:49.550Z"
    }
   },
   "outputs": [],
   "source": [
    "imask.save_masks(output_dir=output_dir)"
   ]
  },
  {
   "cell_type": "code",
   "execution_count": null,
   "metadata": {
    "ExecuteTime": {
     "start_time": "2018-11-27T01:06:49.552Z"
    }
   },
   "outputs": [],
   "source": [
    "os.listdir(output_dir)"
   ]
  },
  {
   "cell_type": "markdown",
   "metadata": {},
   "source": [
    "Let's clean up:"
   ]
  },
  {
   "cell_type": "code",
   "execution_count": null,
   "metadata": {
    "ExecuteTime": {
     "start_time": "2018-11-27T01:06:49.556Z"
    }
   },
   "outputs": [],
   "source": [
    "for f in os.listdir(output_dir):\n",
    "    os.remove(output_dir + '/' + f)\n",
    "os.rmdir(output_dir)"
   ]
  }
 ],
 "metadata": {
  "kernelspec": {
   "display_name": "Python 3",
   "language": "python",
   "name": "python3"
  },
  "language_info": {
   "codemirror_mode": {
    "name": "ipython",
    "version": 3
   },
   "file_extension": ".py",
   "mimetype": "text/x-python",
   "name": "python",
   "nbconvert_exporter": "python",
   "pygments_lexer": "ipython3",
   "version": "3.6.4"
  }
 },
 "nbformat": 4,
 "nbformat_minor": 2
}
