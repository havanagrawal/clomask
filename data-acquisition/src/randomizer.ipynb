{
 "cells": [
  {
   "cell_type": "code",
   "execution_count": 30,
   "metadata": {},
   "outputs": [],
   "source": [
    "import os\n",
    "from PIL import Image\n",
    "import random\n",
    "from shutil import copy2"
   ]
  },
  {
   "cell_type": "code",
   "execution_count": 13,
   "metadata": {},
   "outputs": [],
   "source": [
    "dataset = \"bottles\"\n",
    "seq = 1\n",
    "output_dir = \"./downloads/renamed/\"\n",
    "input_dir = \"./downloads/bottles_dataset/.\""
   ]
  },
  {
   "cell_type": "code",
   "execution_count": 16,
   "metadata": {},
   "outputs": [],
   "source": [
    "def convert_to_jpg(file):\n",
    "    im = Image.open(\"{}/{}\".format(input_dir,file))\n",
    "    rgb_im = im.convert('RGB')\n",
    "    return rgb_im"
   ]
  },
  {
   "cell_type": "code",
   "execution_count": 17,
   "metadata": {},
   "outputs": [],
   "source": [
    "files = os.listdir(input_dir)"
   ]
  },
  {
   "cell_type": "code",
   "execution_count": 22,
   "metadata": {},
   "outputs": [
    {
     "name": "stderr",
     "output_type": "stream",
     "text": [
      "C:\\Users\\vishnn\\AppData\\Local\\Continuum\\anaconda3\\lib\\site-packages\\PIL\\Image.py:918: UserWarning: Palette images with Transparency   expressed in bytes should be converted to RGBA images\n",
      "  'to RGBA images')\n"
     ]
    },
    {
     "name": "stdout",
     "output_type": "stream",
     "text": [
      "9. .jpg\n"
     ]
    }
   ],
   "source": [
    "seq=1\n",
    "for file in files: \n",
    "    if 'jpg' not in file:\n",
    "        img = convert_to_jpg(file)\n",
    "    else:\n",
    "        img = Image.open(\"{}/{}\".format(input_dir,file))\n",
    "    try:\n",
    "        img.save('{}/{}_{}.jpg'.format(output_dir, dataset, seq))\n",
    "    except:\n",
    "        print(file)\n",
    "    seq+=1"
   ]
  },
  {
   "cell_type": "markdown",
   "metadata": {},
   "source": [
    "### Randomize"
   ]
  },
  {
   "cell_type": "code",
   "execution_count": 28,
   "metadata": {},
   "outputs": [],
   "source": [
    "renamed_files = os.listdir(output_dir)\n",
    "for _ in range(5):\n",
    "    random.shuffle(renamed_files)"
   ]
  },
  {
   "cell_type": "code",
   "execution_count": 32,
   "metadata": {},
   "outputs": [],
   "source": [
    "for member in ['Vishnu','Puru','Havan','Tejas','Toan']:\n",
    "    path = './downloads/splits/{}/.'.format(member)\n",
    "    for _ in range(71):\n",
    "        file  = renamed_files.pop()\n",
    "        copy2('{}/{}'.format(output_dir, file), path)"
   ]
  },
  {
   "cell_type": "code",
   "execution_count": 33,
   "metadata": {},
   "outputs": [
    {
     "data": {
      "text/plain": [
       "['bottles_353.jpg', 'bottles_40.jpg']"
      ]
     },
     "execution_count": 33,
     "metadata": {},
     "output_type": "execute_result"
    }
   ],
   "source": [
    "renamed_files"
   ]
  }
 ],
 "metadata": {
  "kernelspec": {
   "display_name": "Python 3",
   "language": "python",
   "name": "python3"
  },
  "language_info": {
   "codemirror_mode": {
    "name": "ipython",
    "version": 3
   },
   "file_extension": ".py",
   "mimetype": "text/x-python",
   "name": "python",
   "nbconvert_exporter": "python",
   "pygments_lexer": "ipython3",
   "version": "3.6.5"
  }
 },
 "nbformat": 4,
 "nbformat_minor": 2
}
