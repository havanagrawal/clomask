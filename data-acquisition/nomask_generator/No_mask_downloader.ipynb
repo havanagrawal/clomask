{
 "cells": [
  {
   "cell_type": "markdown",
   "metadata": {},
   "source": [
    "# Downloading and Generating Masks for Non Class Examples"
   ]
  },
  {
   "cell_type": "code",
   "execution_count": 45,
   "metadata": {},
   "outputs": [],
   "source": [
    "from PIL import Image\n",
    "from google_images_download import google_images_download\n",
    "import Augmentor\n",
    "import glob\n",
    "import shutil\n",
    "import os"
   ]
  },
  {
   "cell_type": "code",
   "execution_count": 46,
   "metadata": {},
   "outputs": [],
   "source": [
    "def create_masks(path):\n",
    "    \"\"\"\n",
    "    This function generate empty black masks for each of \n",
    "    the images downloaded from Google. \n",
    "    \"\"\"\n",
    "    x = path.rstrip('\\n')\n",
    "    t = x.split('/')[-1].rstrip('.jpg')\n",
    "    im = Image.open(x)\n",
    "    im_size = im.size\n",
    "    img = Image.new('RGB', im_size)\n",
    "    img.save(\"no_mask/masks/\"+\"mask_\"+t+\".jpg\", \"JPEG\")\n",
    "    return"
   ]
  },
  {
   "cell_type": "code",
   "execution_count": 49,
   "metadata": {},
   "outputs": [],
   "source": [
    "def create_image_dataset(search_term, number_of_images, augmentation=0):\n",
    "    \"\"\"\n",
    "    Download images from Google, and generate the corresponding\n",
    "    masks for these images. There is a limit of 100, which can \n",
    "    be overridden by setting up Selenium and Chromedriver. \n",
    "    \"\"\"\n",
    "    response = google_images_download.googleimagesdownload()\n",
    "    arguments = {\"keywords\":search_term,\"limit\":number_of_images,\"print_urls\":False, \n",
    "                \"output_directory\":\"no_mask\", \"image_directory\":\"temp\", \"format\":\"jpg\"} \n",
    "    response.download(arguments) \n",
    "    path = 'no_mask/temp'\n",
    "    i = 0\n",
    "    for filename in os.listdir(path):\n",
    "        os.rename(os.path.join(path,filename), os.path.join(path,'image'+str(i)+'.jpg'))\n",
    "        i = i +1\n",
    "    if augmentation != 0:\n",
    "        p = Augmentor.Pipeline(source_directory=\"no_mask/temp\", output_directory=\"../images\")\n",
    "        p.rotate(probability=0.6, max_left_rotation=10, max_right_rotation=10)\n",
    "        p.zoom(probability=0.5, min_factor=1.1, max_factor=1.5)\n",
    "        p.crop_random(probability=0.6, percentage_area=0.7)\n",
    "        p.sample(augmentation)\n",
    "    shutil.rmtree('no_mask/temp')\n",
    "    path = 'no_mask/images'\n",
    "    i = 0\n",
    "    for filename in os.listdir(path):\n",
    "        os.rename(os.path.join(path,filename), os.path.join(path,'image'+str(i)+'.jpg'))\n",
    "        i = i +1\n",
    "    list_of_files = glob.glob(\"no_mask/images/*.jpg\")\n",
    "    os.mkdir('no_mask/masks')\n",
    "    for file in list_of_files:\n",
    "        create_masks(file)\n",
    "    return\n",
    "    "
   ]
  },
  {
   "cell_type": "code",
   "execution_count": 50,
   "metadata": {},
   "outputs": [
    {
     "name": "stdout",
     "output_type": "stream",
     "text": [
      "\n",
      "Item no.: 1 --> Item name = test\n",
      "Evaluating...\n",
      "Starting Download...\n",
      "Completed Image ====> 1. test.jpg\n",
      "Completed Image ====> 2. test.jpg\n",
      "Completed Image ====> 3. bigstock-test-word-on-white-keyboard-27134336.jpg\n",
      "Completed Image ====> 4. test-intelligenza-sociale.jpg\n",
      "Completed Image ====> 5. bubble-test.jpg\n",
      "Completed Image ====> 6. image.jpg\n",
      "URLError on an image...trying next one... Error: <urlopen error timed out>\n",
      "Completed Image ====> 7. standard-exam-600x400.jpg\n",
      "Completed Image ====> 8. latest?cb=20180119233937.jpg\n",
      "Completed Image ====> 9. resultados-test_9.jpg\n"
     ]
    },
    {
     "name": "stderr",
     "output_type": "stream",
     "text": [
      "Processing <PIL.Image.Image image mode=RGB size=251x168 at 0x10C2B0F98>: 100%|██████████| 2/2 [00:00<00:00, 57.22 Samples/s]"
     ]
    },
    {
     "name": "stdout",
     "output_type": "stream",
     "text": [
      "Completed Image ====> 10. road-sign-361513_960_720.jpg\n",
      "\n",
      "Errors: 1\n",
      "\n",
      "Initialised with 10 image(s) found.\n",
      "Output directory set to no_mask/temp/../images."
     ]
    },
    {
     "name": "stderr",
     "output_type": "stream",
     "text": [
      "\n"
     ]
    }
   ],
   "source": [
    "create_image_dataset(\"test\", 10, 2)"
   ]
  },
  {
   "cell_type": "code",
   "execution_count": 8,
   "metadata": {},
   "outputs": [
    {
     "data": {
      "text/plain": [
       "<module 'nomask' from '/Volumes/Work_Drive/temp/clomask/data-acquisition/nomask_generator/nomask.py'>"
      ]
     },
     "execution_count": 8,
     "metadata": {},
     "output_type": "execute_result"
    }
   ],
   "source": [
    "import nomask\n",
    "import importlib\n",
    "importlib.reload(nomask)"
   ]
  },
  {
   "cell_type": "code",
   "execution_count": 9,
   "metadata": {},
   "outputs": [],
   "source": [
    "object_1 = nomask.NoMask(\"test\", 10)"
   ]
  },
  {
   "cell_type": "code",
   "execution_count": 10,
   "metadata": {},
   "outputs": [
    {
     "name": "stdout",
     "output_type": "stream",
     "text": [
      "\n",
      "Item no.: 1 --> Item name = test\n",
      "Evaluating...\n",
      "Starting Download...\n",
      "Completed Image ====> 1. test.jpg\n",
      "Completed Image ====> 2. test.jpg\n",
      "Completed Image ====> 3. bigstock-test-word-on-white-keyboard-27134336.jpg\n",
      "Completed Image ====> 4. bubble-test.jpg\n",
      "Completed Image ====> 5. test-intelligenza-sociale.jpg\n",
      "Completed Image ====> 6. 160224172541-sat-test-bubble-super-tease.jpg\n",
      "Completed Image ====> 7. test-computer-key-in-blue-showing-quiz-or-online-questionnaire_fydjnndu.jpg\n",
      "Completed Image ====> 8. image.jpg\n",
      "Completed Image ====> 9. resultados-test_9.jpg\n",
      "Completed Image ====> 10. standard-exam-600x400.jpg\n",
      "\n",
      "Errors: 0\n",
      "\n"
     ]
    }
   ],
   "source": [
    "object_1.create_image_dataset()"
   ]
  },
  {
   "cell_type": "code",
   "execution_count": null,
   "metadata": {},
   "outputs": [],
   "source": []
  }
 ],
 "metadata": {
  "kernelspec": {
   "display_name": "Python 3",
   "language": "python",
   "name": "python3"
  },
  "language_info": {
   "codemirror_mode": {
    "name": "ipython",
    "version": 3
   },
   "file_extension": ".py",
   "mimetype": "text/x-python",
   "name": "python",
   "nbconvert_exporter": "python",
   "pygments_lexer": "ipython3",
   "version": "3.6.8"
  }
 },
 "nbformat": 4,
 "nbformat_minor": 2
}
